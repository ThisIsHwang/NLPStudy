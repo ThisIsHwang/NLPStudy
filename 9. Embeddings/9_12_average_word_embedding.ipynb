{
  "nbformat": 4,
  "nbformat_minor": 0,
  "metadata": {
    "colab": {
      "name": "9-12. average_word_embedding.ipynb",
      "provenance": [],
      "collapsed_sections": [],
      "machine_shape": "hm",
      "include_colab_link": true
    },
    "kernelspec": {
      "name": "python3",
      "display_name": "Python 3"
    },
    "language_info": {
      "name": "python"
    },
    "accelerator": "GPU"
  },
  "cells": [
    {
      "cell_type": "markdown",
      "metadata": {
        "id": "view-in-github",
        "colab_type": "text"
      },
      "source": [
        "<a href=\"https://colab.research.google.com/github/ThisIsHwang/NLPStudy/blob/main/9.%20Embeddings/9_12_average_word_embedding.ipynb\" target=\"_parent\"><img src=\"https://colab.research.google.com/assets/colab-badge.svg\" alt=\"Open In Colab\"/></a>"
      ]
    },
    {
      "cell_type": "markdown",
      "metadata": {
        "id": "DAk7Ivmd0hJg"
      },
      "source": [
        "이 자료는 위키독스 딥 러닝을 이용한 자연어 처리 입문의 워드 임베딩의 평균 튜토리얼 자료입니다.  \n",
        "\n",
        "링크 : https://wikidocs.net/103496\n",
        "\n",
        "이 자료는 2021년 10월 13일에 마지막으로 테스트되었습니다."
      ]
    },
    {
      "cell_type": "code",
      "metadata": {
        "colab": {
          "base_uri": "https://localhost:8080/",
          "height": 36
        },
        "id": "GkQ-btEo0pX5",
        "outputId": "0719bf53-fe6f-4177-fb10-b0742aabed73"
      },
      "source": [
        "import tensorflow as tf\n",
        "tf.__version__"
      ],
      "execution_count": 1,
      "outputs": [
        {
          "output_type": "execute_result",
          "data": {
            "text/plain": [
              "'2.8.2'"
            ],
            "application/vnd.google.colaboratory.intrinsic+json": {
              "type": "string"
            }
          },
          "metadata": {},
          "execution_count": 1
        }
      ]
    },
    {
      "cell_type": "markdown",
      "source": [
        "# 1. 데이터 로드와 전처리"
      ],
      "metadata": {
        "id": "RtdH-cpkaV7p"
      }
    },
    {
      "cell_type": "code",
      "metadata": {
        "id": "z-Un4NKMzG8I"
      },
      "source": [
        "import numpy as np\n",
        "from tensorflow.keras.preprocessing.sequence import pad_sequences\n",
        "from tensorflow.keras.models import Sequential, load_model\n",
        "from tensorflow.keras.layers import Dense, Embedding, GlobalAveragePooling1D\n",
        "from tensorflow.keras.callbacks import EarlyStopping, ModelCheckpoint\n",
        "from tensorflow.keras.datasets import imdb"
      ],
      "execution_count": 2,
      "outputs": []
    },
    {
      "cell_type": "code",
      "metadata": {
        "colab": {
          "base_uri": "https://localhost:8080/"
        },
        "id": "aH3ms-O4zLHS",
        "outputId": "6357b217-f430-4ad3-9c3c-33c1f74fdbc6"
      },
      "source": [
        "vocab_size = 20000\n",
        "\n",
        "(X_train, y_train), (X_test, y_test) = imdb.load_data(num_words=vocab_size)\n",
        "print('훈련용 리뷰 개수 :',len(X_train))\n",
        "print('테스트용 리뷰 개수 :',len(X_test))"
      ],
      "execution_count": 3,
      "outputs": [
        {
          "output_type": "stream",
          "name": "stdout",
          "text": [
            "Downloading data from https://storage.googleapis.com/tensorflow/tf-keras-datasets/imdb.npz\n",
            "17465344/17464789 [==============================] - 0s 0us/step\n",
            "17473536/17464789 [==============================] - 0s 0us/step\n",
            "훈련용 리뷰 개수 : 25000\n",
            "테스트용 리뷰 개수 : 25000\n"
          ]
        }
      ]
    },
    {
      "cell_type": "code",
      "metadata": {
        "colab": {
          "base_uri": "https://localhost:8080/"
        },
        "id": "kjZ4iJOWzMbp",
        "outputId": "429798c8-0708-417d-ddf4-2d5b8fbf958d"
      },
      "source": [
        "print(X_train[0])"
      ],
      "execution_count": 4,
      "outputs": [
        {
          "output_type": "stream",
          "name": "stdout",
          "text": [
            "[1, 14, 22, 16, 43, 530, 973, 1622, 1385, 65, 458, 4468, 66, 3941, 4, 173, 36, 256, 5, 25, 100, 43, 838, 112, 50, 670, 2, 9, 35, 480, 284, 5, 150, 4, 172, 112, 167, 2, 336, 385, 39, 4, 172, 4536, 1111, 17, 546, 38, 13, 447, 4, 192, 50, 16, 6, 147, 2025, 19, 14, 22, 4, 1920, 4613, 469, 4, 22, 71, 87, 12, 16, 43, 530, 38, 76, 15, 13, 1247, 4, 22, 17, 515, 17, 12, 16, 626, 18, 19193, 5, 62, 386, 12, 8, 316, 8, 106, 5, 4, 2223, 5244, 16, 480, 66, 3785, 33, 4, 130, 12, 16, 38, 619, 5, 25, 124, 51, 36, 135, 48, 25, 1415, 33, 6, 22, 12, 215, 28, 77, 52, 5, 14, 407, 16, 82, 10311, 8, 4, 107, 117, 5952, 15, 256, 4, 2, 7, 3766, 5, 723, 36, 71, 43, 530, 476, 26, 400, 317, 46, 7, 4, 12118, 1029, 13, 104, 88, 4, 381, 15, 297, 98, 32, 2071, 56, 26, 141, 6, 194, 7486, 18, 4, 226, 22, 21, 134, 476, 26, 480, 5, 144, 30, 5535, 18, 51, 36, 28, 224, 92, 25, 104, 4, 226, 65, 16, 38, 1334, 88, 12, 16, 283, 5, 16, 4472, 113, 103, 32, 15, 16, 5345, 19, 178, 32]\n"
          ]
        }
      ]
    },
    {
      "cell_type": "code",
      "metadata": {
        "colab": {
          "base_uri": "https://localhost:8080/"
        },
        "id": "vnMNKIF2zNfp",
        "outputId": "6eb5a1d4-c691-4349-b2e0-09554a187a8e"
      },
      "source": [
        "print(y_train[0])"
      ],
      "execution_count": 5,
      "outputs": [
        {
          "output_type": "stream",
          "name": "stdout",
          "text": [
            "1\n"
          ]
        }
      ]
    },
    {
      "cell_type": "code",
      "metadata": {
        "colab": {
          "base_uri": "https://localhost:8080/"
        },
        "id": "ge1JOddjzOPJ",
        "outputId": "0c0f6d9b-c9b6-49be-a06d-beddfee756c2"
      },
      "source": [
        "print('훈련용 리뷰의 평규 길이: {}'.format(np.mean(list(map(len, X_train)), dtype=int)))\n",
        "print('테스트용 리뷰의 평균 길이: {}'.format(np.mean(list(map(len, X_test)), dtype=int)))"
      ],
      "execution_count": 6,
      "outputs": [
        {
          "output_type": "stream",
          "name": "stdout",
          "text": [
            "훈련용 리뷰의 평규 길이: 238\n",
            "테스트용 리뷰의 평균 길이: 230\n"
          ]
        }
      ]
    },
    {
      "cell_type": "code",
      "metadata": {
        "colab": {
          "base_uri": "https://localhost:8080/"
        },
        "id": "B-vMjyi5zPGh",
        "outputId": "a19b3865-e263-4d8f-986c-002cdad81f3b"
      },
      "source": [
        "max_len = 400\n",
        "\n",
        "X_train = pad_sequences(X_train, maxlen=max_len)\n",
        "X_test = pad_sequences(X_test, maxlen=max_len)\n",
        "print('x_train의 크기(shape) :', X_train.shape)\n",
        "print('x_test의 크기(shape) :', X_test.shape)"
      ],
      "execution_count": 7,
      "outputs": [
        {
          "output_type": "stream",
          "name": "stdout",
          "text": [
            "x_train의 크기(shape) : (25000, 400)\n",
            "x_test의 크기(shape) : (25000, 400)\n"
          ]
        }
      ]
    },
    {
      "cell_type": "markdown",
      "source": [
        "# 2. 모델 설계하기"
      ],
      "metadata": {
        "id": "L743rBFHaXww"
      }
    },
    {
      "cell_type": "code",
      "metadata": {
        "id": "WPJm4kH4zRNx"
      },
      "source": [
        "embedding_dim = 64\n",
        "\n",
        "model = Sequential()\n",
        "model.add(Embedding(vocab_size, embedding_dim))\n",
        "\n",
        "# 모든 단어 벡터의 평균을 구한다.\n",
        "model.add(GlobalAveragePooling1D())\n",
        "model.add(Dense(1, activation='sigmoid'))"
      ],
      "execution_count": 8,
      "outputs": []
    },
    {
      "cell_type": "code",
      "metadata": {
        "id": "yRagjoJdzZ3Z"
      },
      "source": [
        "es = EarlyStopping(monitor='val_loss', mode='min', verbose=1, patience=4)\n",
        "mc = ModelCheckpoint('embedding_average_model.h5', monitor='val_acc', mode='max', verbose=1, save_best_only=True)"
      ],
      "execution_count": 9,
      "outputs": []
    },
    {
      "cell_type": "code",
      "metadata": {
        "colab": {
          "base_uri": "https://localhost:8080/"
        },
        "id": "v5c1BHdvzfLR",
        "outputId": "32b65054-292c-4374-c69e-af26a6d14ccb"
      },
      "source": [
        "model.compile(loss='binary_crossentropy', optimizer='adam', metrics=['acc'])\n",
        "model.fit(X_train, y_train, batch_size=32, epochs=10, callbacks=[es, mc], validation_split=0.2)"
      ],
      "execution_count": 10,
      "outputs": [
        {
          "output_type": "stream",
          "name": "stdout",
          "text": [
            "Epoch 1/10\n",
            "623/625 [============================>.] - ETA: 0s - loss: 0.6294 - acc: 0.7219\n",
            "Epoch 1: val_acc improved from -inf to 0.81540, saving model to embedding_average_model.h5\n",
            "625/625 [==============================] - 5s 3ms/step - loss: 0.6290 - acc: 0.7222 - val_loss: 0.5234 - val_acc: 0.8154\n",
            "Epoch 2/10\n",
            "623/625 [============================>.] - ETA: 0s - loss: 0.4310 - acc: 0.8558\n",
            "Epoch 2: val_acc improved from 0.81540 to 0.86960, saving model to embedding_average_model.h5\n",
            "625/625 [==============================] - 2s 3ms/step - loss: 0.4308 - acc: 0.8559 - val_loss: 0.3795 - val_acc: 0.8696\n",
            "Epoch 3/10\n",
            "625/625 [==============================] - ETA: 0s - loss: 0.3193 - acc: 0.8931\n",
            "Epoch 3: val_acc improved from 0.86960 to 0.87980, saving model to embedding_average_model.h5\n",
            "625/625 [==============================] - 2s 3ms/step - loss: 0.3193 - acc: 0.8931 - val_loss: 0.3231 - val_acc: 0.8798\n",
            "Epoch 4/10\n",
            "623/625 [============================>.] - ETA: 0s - loss: 0.2622 - acc: 0.9095\n",
            "Epoch 4: val_acc improved from 0.87980 to 0.88480, saving model to embedding_average_model.h5\n",
            "625/625 [==============================] - 2s 3ms/step - loss: 0.2619 - acc: 0.9096 - val_loss: 0.2974 - val_acc: 0.8848\n",
            "Epoch 5/10\n",
            "624/625 [============================>.] - ETA: 0s - loss: 0.2246 - acc: 0.9239\n",
            "Epoch 5: val_acc improved from 0.88480 to 0.88740, saving model to embedding_average_model.h5\n",
            "625/625 [==============================] - 2s 3ms/step - loss: 0.2246 - acc: 0.9240 - val_loss: 0.2849 - val_acc: 0.8874\n",
            "Epoch 6/10\n",
            "607/625 [============================>.] - ETA: 0s - loss: 0.1962 - acc: 0.9349\n",
            "Epoch 6: val_acc improved from 0.88740 to 0.88980, saving model to embedding_average_model.h5\n",
            "625/625 [==============================] - 2s 3ms/step - loss: 0.1960 - acc: 0.9347 - val_loss: 0.2771 - val_acc: 0.8898\n",
            "Epoch 7/10\n",
            "611/625 [============================>.] - ETA: 0s - loss: 0.1718 - acc: 0.9437\n",
            "Epoch 7: val_acc improved from 0.88980 to 0.89420, saving model to embedding_average_model.h5\n",
            "625/625 [==============================] - 2s 3ms/step - loss: 0.1723 - acc: 0.9437 - val_loss: 0.2723 - val_acc: 0.8942\n",
            "Epoch 8/10\n",
            "625/625 [==============================] - ETA: 0s - loss: 0.1526 - acc: 0.9502\n",
            "Epoch 8: val_acc improved from 0.89420 to 0.89560, saving model to embedding_average_model.h5\n",
            "625/625 [==============================] - 2s 3ms/step - loss: 0.1526 - acc: 0.9502 - val_loss: 0.2715 - val_acc: 0.8956\n",
            "Epoch 9/10\n",
            "609/625 [============================>.] - ETA: 0s - loss: 0.1360 - acc: 0.9557\n",
            "Epoch 9: val_acc did not improve from 0.89560\n",
            "625/625 [==============================] - 2s 3ms/step - loss: 0.1357 - acc: 0.9559 - val_loss: 0.2745 - val_acc: 0.8954\n",
            "Epoch 10/10\n",
            "624/625 [============================>.] - ETA: 0s - loss: 0.1204 - acc: 0.9622\n",
            "Epoch 10: val_acc improved from 0.89560 to 0.89620, saving model to embedding_average_model.h5\n",
            "625/625 [==============================] - 2s 3ms/step - loss: 0.1203 - acc: 0.9622 - val_loss: 0.2785 - val_acc: 0.8962\n"
          ]
        },
        {
          "output_type": "execute_result",
          "data": {
            "text/plain": [
              "<keras.callbacks.History at 0x7f50ae606ed0>"
            ]
          },
          "metadata": {},
          "execution_count": 10
        }
      ]
    },
    {
      "cell_type": "code",
      "metadata": {
        "colab": {
          "base_uri": "https://localhost:8080/"
        },
        "id": "_cPZRlFrzuiC",
        "outputId": "6b5cbba9-0557-4253-e943-fb58727b6ff6"
      },
      "source": [
        "loaded_model = load_model('embedding_average_model.h5')\n",
        "print(\"\\n 테스트 정확도: %.4f\" % (loaded_model.evaluate(X_test, y_test)[1]))"
      ],
      "execution_count": 11,
      "outputs": [
        {
          "output_type": "stream",
          "name": "stdout",
          "text": [
            "782/782 [==============================] - 1s 2ms/step - loss: 0.2941 - acc: 0.8859\n",
            "\n",
            " 테스트 정확도: 0.8859\n"
          ]
        }
      ]
    }
  ]
}